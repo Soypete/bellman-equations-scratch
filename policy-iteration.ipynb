{
 "cells": [
  {
   "cell_type": "code",
   "execution_count": 14,
   "metadata": {},
   "outputs": [
    {
     "data": {
      "text/plain": [
       "16"
      ]
     },
     "execution_count": 14,
     "metadata": {},
     "output_type": "execute_result"
    }
   ],
   "source": [
    "import gym\n",
    "import numpy as np\n",
    "#make environment\n",
    "env = gym.make('FrozenLake-v0')\n",
    "# as the environment is continues there cannot be finite number of states \n",
    "states = env.observation_space.n #used if discrete environment\n",
    "states"
   ]
  },
  {
   "cell_type": "code",
   "execution_count": 15,
   "metadata": {},
   "outputs": [
    {
     "data": {
      "text/plain": [
       "4"
      ]
     },
     "execution_count": 15,
     "metadata": {},
     "output_type": "execute_result"
    }
   ],
   "source": [
    "#check number of actions that can be \n",
    "actions = env.action_space.n\n",
    "actions"
   ]
  },
  {
   "cell_type": "code",
   "execution_count": 18,
   "metadata": {},
   "outputs": [],
   "source": [
    "def compute_value(env, policy , gamma =1.0 , threshold = 1e-20):\n",
    "    #initialize value table random\n",
    "    value_table = np.zeros((states,1))\n",
    "    while True:\n",
    "        new_valuetable = np.copy(value_table)\n",
    "        for state in range(states):\n",
    "            action = int(policy[state])\n",
    "            for next_state_parameters in env.env.P[state][action]:\n",
    "                transition_prob, next_state, reward_prob, _ = next_state_parameters\n",
    "                value_table[state] = transition_prob*(reward_prob+gamma*new_valuetable[next_state])\n",
    "        if (np.sum(np.fabs(new_valuetable - value_table))<=threshold):\n",
    "            break\n",
    "    return value_table"
   ]
  },
  {
   "cell_type": "code",
   "execution_count": 20,
   "metadata": {},
   "outputs": [],
   "source": [
    "def extract_policy(value_table, gamma = 1.0):\n",
    "    policy = np.zeros(env.observation_space.n)\n",
    "    for state in range(env.observation_space.n):\n",
    "        Q_table = np.zeros(env.action_space.n)\n",
    "        for action in range(env.action_space.n):\n",
    "              for next_sr in env.env.P[state][action]:\n",
    "                transition_prob, next_state, reward_prob, _ = next_sr\n",
    "                Q_table[action] += (transition_prob * (reward_prob + gamma *value_table[next_state]))\n",
    "        policy[state] = np.argmax(Q_table)\n",
    "    return policy"
   ]
  },
  {
   "cell_type": "markdown",
   "metadata": {},
   "source": [
    "Instead of changing the values to define a policy we ae changing policy to find the best ways to get high values"
   ]
  },
  {
   "cell_type": "code",
   "execution_count": 21,
   "metadata": {},
   "outputs": [
    {
     "name": "stdout",
     "output_type": "stream",
     "text": [
      "[0. 1. 0. 0. 0. 0. 0. 0. 0. 1. 0. 0. 0. 1. 2. 0.]\n"
     ]
    }
   ],
   "source": [
    "n_iterations = 200000\n",
    "random_policy = np.zeros((states,1))\n",
    "for i in range(n_iterations):\n",
    "      new_value_table = compute_value(env,random_policy)\n",
    "      new_policy = extract_policy(new_value_table)\n",
    "      random_policy = new_policy\n",
    "print(random_policy)"
   ]
  },
  {
   "cell_type": "code",
   "execution_count": null,
   "metadata": {},
   "outputs": [],
   "source": []
  }
 ],
 "metadata": {
  "kernelspec": {
   "display_name": "Python 3",
   "language": "python",
   "name": "python3"
  },
  "language_info": {
   "codemirror_mode": {
    "name": "ipython",
    "version": 3
   },
   "file_extension": ".py",
   "mimetype": "text/x-python",
   "name": "python",
   "nbconvert_exporter": "python",
   "pygments_lexer": "ipython3",
   "version": "3.7.3"
  }
 },
 "nbformat": 4,
 "nbformat_minor": 4
}
